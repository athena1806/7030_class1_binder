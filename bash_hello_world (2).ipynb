{
 "cells": [
  {
   "cell_type": "markdown",
   "id": "0c8f87f6-6a3f-4b3d-b821-dec430d039ed",
   "metadata": {
    "tags": []
   },
   "source": [
    "# My wonderful bash script that says \"Hello World\" "
   ]
  },
  {
   "cell_type": "code",
   "execution_count": 1,
   "id": "f1e65fde-1b0b-4d56-88d9-0abbe8694a06",
   "metadata": {
    "tags": []
   },
   "outputs": [
    {
     "name": "stdout",
     "output_type": "stream",
     "text": [
      "Hello World\n"
     ]
    }
   ],
   "source": [
    "!echo \"Hello World\""
   ]
  }
 ],
 "metadata": {
  "kernelspec": {
   "display_name": "Python 3 (ipykernel)",
   "language": "python",
   "name": "python3"
  },
  "language_info": {
   "codemirror_mode": {
    "name": "ipython",
    "version": 3
   },
   "file_extension": ".py",
   "mimetype": "text/x-python",
   "name": "python",
   "nbconvert_exporter": "python",
   "pygments_lexer": "ipython3",
   "version": "3.11.4"
  }
 },
 "nbformat": 4,
 "nbformat_minor": 5
}
