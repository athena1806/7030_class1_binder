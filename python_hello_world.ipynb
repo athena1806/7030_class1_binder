{
 "cells": [
  {
   "cell_type": "markdown",
   "id": "0c8f87f6-6a3f-4b3d-b821-dec430d039ed",
   "metadata": {},
   "source": [
    "# My wonderful python script that says \"Hello World\" "
   ]
  },
  {
   "cell_type": "code",
   "execution_count": 2,
   "id": "09c96df6-3d5f-4901-9c26-f06e58c17cf2",
   "metadata": {
    "tags": []
   },
   "outputs": [
    {
     "name": "stdout",
     "output_type": "stream",
     "text": [
      "Hello World\n"
     ]
    }
   ],
   "source": [
    "print(\"Hello World\")"
   ]
  }
 ],
 "metadata": {
  "kernelspec": {
   "display_name": "Python 3 (ipykernel)",
   "language": "python",
   "name": "python3"
  },
  "language_info": {
   "codemirror_mode": {
    "name": "ipython",
    "version": 3
   },
   "file_extension": ".py",
   "mimetype": "text/x-python",
   "name": "python",
   "nbconvert_exporter": "python",
   "pygments_lexer": "ipython3",
   "version": "3.11.4"
  }
 },
 "nbformat": 4,
 "nbformat_minor": 5
}
